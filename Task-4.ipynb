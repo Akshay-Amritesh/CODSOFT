{
 "cells": [
  {
   "cell_type": "markdown",
   "id": "7509fa92-fa51-46b8-b423-4c98e3979d1c",
   "metadata": {},
   "source": [
    "Spam SMS Detection"
   ]
  },
  {
   "cell_type": "code",
   "execution_count": null,
   "id": "1b2b5073-1503-4e15-b0b0-6977246b64b1",
   "metadata": {},
   "outputs": [],
   "source": [
    "# Objective -- Build an AI model to classify SMS messages as spam or legitimate using TF-IDF and classifiers\n",
    "#              ( Naive Bayes, Logistic Regression, SVM )"
   ]
  },
  {
   "cell_type": "code",
   "execution_count": 2,
   "id": "a4d77e86-eb48-4beb-aec4-830c2bb9e32f",
   "metadata": {},
   "outputs": [],
   "source": [
    "# Step 1 :- Import required libraries\n",
    "\n",
    "import pandas as pd\n",
    "import numpy as np\n",
    "from sklearn.model_selection import train_test_split\n",
    "from sklearn.feature_extraction.text import TfidfVectorizer\n",
    "from sklearn.naive_bayes import MultinomialNB\n",
    "from sklearn.linear_model import LogisticRegression\n",
    "from sklearn.svm import SVC\n",
    "from sklearn.metrics import accuracy_score, classification_report, confusion_matrix\n",
    "import matplotlib.pyplot as plt\n",
    "import seaborn as sns\n",
    "import joblib\n",
    "import re"
   ]
  },
  {
   "cell_type": "code",
   "execution_count": 4,
   "id": "ebcab87e-d172-43e4-aa7e-21e187e2184c",
   "metadata": {},
   "outputs": [],
   "source": [
    "# Step 2 :- Load dataset\n",
    "\n",
    "try:\n",
    "    data = pd.read_csv('spam.csv', encoding='latin-1')\n",
    "except FileNotFoundError:\n",
    "    print(\"Error: 'spam.csv' not found.\")\n",
    "    exit()\n",
    "except Exception as e:\n",
    "    print(f\"Error loading dataset: {e}\")\n",
    "    exit()"
   ]
  },
  {
   "cell_type": "code",
   "execution_count": 6,
   "id": "e4425e58-ba91-4c87-bff6-79a945b6a23f",
   "metadata": {},
   "outputs": [
    {
     "name": "stdout",
     "output_type": "stream",
     "text": [
      "### Data Exploration ###\n",
      "Dataset Shape: (5572, 2)\n",
      "Columns: ['label', 'message']\n",
      "Label Distribution:\n",
      " label\n",
      "ham     0.865937\n",
      "spam    0.134063\n",
      "Name: proportion, dtype: float64\n",
      "Missing Values:\n",
      " label      0\n",
      "message    0\n",
      "dtype: int64\n"
     ]
    }
   ],
   "source": [
    "# Step 3 :- Data Exploration\n",
    "\n",
    "# Rename columns and drop unnecessary ones\n",
    "data = data[['v1', 'v2']].rename(columns={'v1': 'label', 'v2': 'message'})\n",
    "print(\"### Data Exploration ###\")\n",
    "print(\"Dataset Shape:\", data.shape)\n",
    "print(\"Columns:\", data.columns.tolist())\n",
    "print(\"Label Distribution:\\n\", data['label'].value_counts(normalize=True))\n",
    "print(\"Missing Values:\\n\", data.isnull().sum())"
   ]
  },
  {
   "cell_type": "code",
   "execution_count": 8,
   "id": "640b990e-8e91-431a-8650-6f77ea02e728",
   "metadata": {},
   "outputs": [],
   "source": [
    "%matplotlib inline"
   ]
  },
  {
   "cell_type": "code",
   "execution_count": 10,
   "id": "e4fb1940-a74c-4c8d-8830-8a155b5294da",
   "metadata": {},
   "outputs": [
    {
     "data": {
      "image/png": "[encoded data removed]",
      "text/plain": [
       "<Figure size 432x288 with 1 Axes>"
      ]
     },
     "metadata": {
      "needs_background": "light"
     },
     "output_type": "display_data"
    }
   ],
   "source": [
    "# Visualize label distribution\n",
    "plt.figure(figsize=(6, 4))\n",
    "sns.countplot(x='label', data=data)\n",
    "plt.title('Spam vs Ham Distribution')\n",
    "plt.xlabel('Label')\n",
    "plt.ylabel('Count')\n",
    "plt.show()"
   ]
  },
  {
   "cell_type": "code",
   "execution_count": 12,
   "id": "5c131f04-abd3-48f6-992a-80b183bcae46",
   "metadata": {},
   "outputs": [
    {
     "name": "stdout",
     "output_type": "stream",
     "text": [
      "\n",
      "Shape after preprocessing: (5572, 2)\n",
      "TF-IDF Matrix Shape: (5572, 5000)\n"
     ]
    }
   ],
   "source": [
    "# Step 4 :- Data Preprocessing\n",
    "\n",
    "# Clean text\n",
    "def clean_text(text):\n",
    "    text = text.lower()\n",
    "    text = re.sub(r'[^a-z0-9\\s]', '', text)\n",
    "    return text\n",
    "\n",
    "data['message'] = data['message'].apply(clean_text)\n",
    "data = data.dropna(subset=['message', 'label'])\n",
    "print(\"\\nShape after preprocessing:\", data.shape)\n",
    "\n",
    "# Encode labels (ham=0, spam=1)\n",
    "data['label'] = data['label'].map({'ham': 0, 'spam': 1})\n",
    "\n",
    "# Features and target\n",
    "X = data['message']\n",
    "y = data['label']\n",
    "\n",
    "# TF-IDF Vectorization\n",
    "vectorizer = TfidfVectorizer(max_features=5000, stop_words='english')\n",
    "try:\n",
    "    X_tfidf = vectorizer.fit_transform(X)\n",
    "except Exception as e:\n",
    "    print(f\"Error in TF-IDF transformation: {e}\")\n",
    "    exit()\n",
    "print(\"TF-IDF Matrix Shape:\", X_tfidf.shape)"
   ]
  },
  {
   "cell_type": "code",
   "execution_count": 14,
   "id": "d36eed87-eef1-4299-b725-e352d3289fdf",
   "metadata": {},
   "outputs": [
    {
     "name": "stdout",
     "output_type": "stream",
     "text": [
      "Training Set Shape: (4457, 5000)\n",
      "Test Set Shape: (1115, 5000)\n"
     ]
    }
   ],
   "source": [
    "# Step 5 :- Train-Test Split\n",
    "\n",
    "X_train, X_test, y_train, y_test = train_test_split(X_tfidf, y, test_size=0.2, random_state=42)\n",
    "print(\"Training Set Shape:\", X_train.shape)\n",
    "print(\"Test Set Shape:\", X_test.shape)"
   ]
  },
  {
   "cell_type": "code",
   "execution_count": 16,
   "id": "370a0b21-4ba8-47e8-9845-bf44af213a40",
   "metadata": {},
   "outputs": [],
   "source": [
    "%matplotlib inline"
   ]
  },
  {
   "cell_type": "code",
   "execution_count": 18,
   "id": "9c6716f6-e53b-4fe1-b61a-9d4791e7e10b",
   "metadata": {},
   "outputs": [
    {
     "name": "stdout",
     "output_type": "stream",
     "text": [
      "\n",
      "### Naive Bayes ###\n",
      "Training Completed\n",
      "Accuracy: 0.9713\n",
      "Classification Report:\n",
      "               precision    recall  f1-score   support\n",
      "\n",
      "         Ham       0.97      1.00      0.98       965\n",
      "        Spam       1.00      0.79      0.88       150\n",
      "\n",
      "    accuracy                           0.97      1115\n",
      "   macro avg       0.98      0.89      0.93      1115\n",
      "weighted avg       0.97      0.97      0.97      1115\n",
      "\n"
     ]
    },
    {
     "data": {
      "image/png": "[encoded data removed]",
      "text/plain": [
       "<Figure size 432x432 with 2 Axes>"
      ]
     },
     "metadata": {
      "needs_background": "light"
     },
     "output_type": "display_data"
    },
    {
     "name": "stdout",
     "output_type": "stream",
     "text": [
      "Model saved as 'spam_naive_bayes_model.pkl'\n",
      "\n",
      "### Logistic Regression ###\n",
      "Training Completed\n",
      "Accuracy: 0.9749\n",
      "Classification Report:\n",
      "               precision    recall  f1-score   support\n",
      "\n",
      "         Ham       0.98      0.99      0.99       965\n",
      "        Spam       0.92      0.89      0.90       150\n",
      "\n",
      "    accuracy                           0.97      1115\n",
      "   macro avg       0.95      0.94      0.95      1115\n",
      "weighted avg       0.97      0.97      0.97      1115\n",
      "\n"
     ]
    },
    {
     "data": {
      "image/png": "[encoded data removed]",
      "text/plain": [
       "<Figure size 432x432 with 2 Axes>"
      ]
     },
     "metadata": {
      "needs_background": "light"
     },
     "output_type": "display_data"
    },
    {
     "name": "stdout",
     "output_type": "stream",
     "text": [
      "Model saved as 'spam_logistic_regression_model.pkl'\n",
      "\n",
      "### SVM ###\n",
      "Training Completed\n",
      "Accuracy: 0.9794\n",
      "Classification Report:\n",
      "               precision    recall  f1-score   support\n",
      "\n",
      "         Ham       0.98      0.99      0.99       965\n",
      "        Spam       0.96      0.89      0.92       150\n",
      "\n",
      "    accuracy                           0.98      1115\n",
      "   macro avg       0.97      0.94      0.95      1115\n",
      "weighted avg       0.98      0.98      0.98      1115\n",
      "\n"
     ]
    },
    {
     "data": {
      "image/png": "[encoded data removed]",
      "text/plain": [
       "<Figure size 432x432 with 2 Axes>"
      ]
     },
     "metadata": {
      "needs_background": "light"
     },
     "output_type": "display_data"
    },
    {
     "name": "stdout",
     "output_type": "stream",
     "text": [
      "Model saved as 'spam_svm_model.pkl'\n"
     ]
    }
   ],
   "source": [
    "# Step 6 :- Model Training and Evaluation\n",
    "\n",
    "models = {\n",
    "    'Naive Bayes': MultinomialNB(),\n",
    "    'Logistic Regression': LogisticRegression(max_iter=1000, class_weight='balanced', random_state=42),\n",
    "    'SVM': SVC(kernel='linear', class_weight='balanced', random_state=42)\n",
    "}\n",
    "\n",
    "for model_name, model in models.items():\n",
    "    print(f\"\\n### {model_name} ###\")\n",
    "    # Train\n",
    "    try:\n",
    "        model.fit(X_train, y_train)\n",
    "        print(\"Training Completed\")\n",
    "    except Exception as e:\n",
    "        print(f\"Error training {model_name}: {e}\")\n",
    "        continue\n",
    "\n",
    "    # Evaluate\n",
    "    y_pred = model.predict(X_test)\n",
    "    accuracy = accuracy_score(y_test, y_pred)\n",
    "    print(\"Accuracy:\", round(accuracy, 4))\n",
    "    print(\"Classification Report:\\n\", classification_report(y_test, y_pred, target_names=['Ham', 'Spam'], zero_division=0))\n",
    "\n",
    "    # Confusion Matrix\n",
    "    cm = confusion_matrix(y_test, y_pred)\n",
    "    plt.figure(figsize=(6, 6))\n",
    "    sns.heatmap(cm, annot=True, fmt='d', cmap='Purples', xticklabels=['Ham', 'Spam'], yticklabels=['Ham', 'Spam'])\n",
    "    plt.title(f'Confusion Matrix - {model_name}')\n",
    "    plt.xlabel('Predicted')\n",
    "    plt.ylabel('Actual')\n",
    "    plt.tight_layout()\n",
    "    plt.show()\n",
    "\n",
    "    # Save model\n",
    "    joblib.dump(model, f'spam_{model_name.lower().replace(\" \", \"_\")}_model.pkl')\n",
    "    print(f\"Model saved as 'spam_{model_name.lower().replace(' ', '_')}_model.pkl'\")"
   ]
  },
  {
   "cell_type": "code",
   "execution_count": 20,
   "id": "e4f445cd-98fa-4c6c-a63e-e4f4e63f437a",
   "metadata": {},
   "outputs": [
    {
     "data": {
      "image/png": "[encoded data removed]",
      "text/plain": [
       "<Figure size 720x432 with 1 Axes>"
      ]
     },
     "metadata": {
      "needs_background": "light"
     },
     "output_type": "display_data"
    },
    {
     "name": "stdout",
     "output_type": "stream",
     "text": [
      "Top 10 Spam Words:\n",
      " txt        5.103904\n",
      "claim      4.232037\n",
      "mobile     4.058121\n",
      "free       4.001339\n",
      "stop       3.986975\n",
      "reply      3.542261\n",
      "new        3.340750\n",
      "text       3.311672\n",
      "won        3.194935\n",
      "service    3.093601\n",
      "dtype: float64\n",
      "Top 10 Ham Words:\n",
      " ltgt    -2.550603\n",
      "ok      -2.240917\n",
      "ill     -2.204351\n",
      "im      -2.011003\n",
      "come    -1.804664\n",
      "going   -1.756848\n",
      "home    -1.581361\n",
      "got     -1.573794\n",
      "da      -1.557357\n",
      "lor     -1.507036\n",
      "dtype: float64\n"
     ]
    }
   ],
   "source": [
    "# Step 7 :- Feature Importance (TF-IDF Weights for Logistic Regression)\n",
    "\n",
    "logreg_model = models['Logistic Regression']\n",
    "coef = pd.Series(logreg_model.coef_[0], index=vectorizer.get_feature_names_out())\n",
    "top_words = pd.concat([coef.nlargest(10), coef.nsmallest(10)])\n",
    "plt.figure(figsize=(10, 6))\n",
    "top_words.plot(kind='bar')\n",
    "plt.title('Top TF-IDF Words for Spam/Ham (Logistic Regression)')\n",
    "plt.xlabel('Words')\n",
    "plt.ylabel('Coefficient')\n",
    "plt.tight_layout()\n",
    "plt.show()\n",
    "\n",
    "print(\"Top 10 Spam Words:\\n\", coef.nlargest(10))\n",
    "print(\"Top 10 Ham Words:\\n\", coef.nsmallest(10))"
   ]
  },
  {
   "cell_type": "code",
   "execution_count": 22,
   "id": "366dbe1b-f7ca-4e94-a585-58d31f23500e",
   "metadata": {},
   "outputs": [
    {
     "name": "stdout",
     "output_type": "stream",
     "text": [
      "\n",
      "### Example Predictions (SVM) ###\n",
      "Message: Win a free iPhone now! Click here to claim!\n",
      "Predicted: Spam\n",
      "\n",
      "Message: Hey, let's meet for coffee tomorrow.\n",
      "Predicted: Ham\n",
      "\n"
     ]
    }
   ],
   "source": [
    "# Step 8 :- Example Prediction (using SVM)\n",
    "\n",
    "svm_model = joblib.load('spam_svm_model.pkl')\n",
    "sample_messages = [\n",
    "    \"Win a free iPhone now! Click here to claim!\",\n",
    "    \"Hey, let's meet for coffee tomorrow.\"\n",
    "]\n",
    "sample_tfidf = vectorizer.transform(sample_messages)\n",
    "predictions = svm_model.predict(sample_tfidf)\n",
    "print(\"\\n### Example Predictions (SVM) ###\")\n",
    "for msg, pred in zip(sample_messages, predictions):\n",
    "    print(f\"Message: {msg}\")\n",
    "    print(f\"Predicted: {'Spam' if pred == 1 else 'Ham'}\\n\")"
   ]
  },
  {
   "cell_type": "code",
   "execution_count": 24,
   "id": "93be498d-0c84-4599-86b6-abad5816cc74",
   "metadata": {},
   "outputs": [
    {
     "name": "stdout",
     "output_type": "stream",
     "text": [
      "Vectorizer saved as 'spam_tfidf_vectorizer.pkl'\n"
     ]
    }
   ],
   "source": [
    "# Step 9 :- Save Vectorizer\n",
    "\n",
    "joblib.dump(vectorizer, 'spam_tfidf_vectorizer.pkl')\n",
    "print(\"Vectorizer saved as 'spam_tfidf_vectorizer.pkl'\")"
   ]
  },
  {
   "cell_type": "code",
   "execution_count": null,
   "id": "8314092c-14c1-4598-bd90-ab23b90899a7",
   "metadata": {},
   "outputs": [],
   "source": []
  }
 ],
 "metadata": {
  "kernelspec": {
   "display_name": "Python [conda env:base] *",
   "language": "python",
   "name": "conda-base-py"
  },
  "language_info": {
   "codemirror_mode": {
    "name": "ipython",
    "version": 3
   },
   "file_extension": ".py",
   "mimetype": "text/x-python",
   "name": "python",
   "nbconvert_exporter": "python",
   "pygments_lexer": "ipython3",
   "version": "3.9.19"
  }
 },
 "nbformat": 4,
 "nbformat_minor": 5
}
